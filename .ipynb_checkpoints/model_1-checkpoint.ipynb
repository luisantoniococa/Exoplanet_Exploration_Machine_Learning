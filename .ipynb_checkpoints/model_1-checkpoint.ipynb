{
 "cells": [
  {
   "cell_type": "code",
   "execution_count": 1,
   "metadata": {},
   "outputs": [
    {
     "name": "stdout",
     "output_type": "stream",
     "text": [
      "Collecting sklearn\n",
      "  Using cached https://files.pythonhosted.org/packages/1e/7a/dbb3be0ce9bd5c8b7e3d87328e79063f8b263b2b1bfa4774cb1147bfcd3f/sklearn-0.0.tar.gz\n",
      "Requirement already satisfied, skipping upgrade: scikit-learn in c:\\users\\luico\\anaconda3\\lib\\site-packages (from sklearn) (0.21.2)\n",
      "Requirement already satisfied, skipping upgrade: scipy>=0.17.0 in c:\\users\\luico\\anaconda3\\lib\\site-packages (from scikit-learn->sklearn) (1.2.1)\n",
      "Requirement already satisfied, skipping upgrade: joblib>=0.11 in c:\\users\\luico\\anaconda3\\lib\\site-packages (from scikit-learn->sklearn) (0.13.2)\n",
      "Requirement already satisfied, skipping upgrade: numpy>=1.11.0 in c:\\users\\luico\\anaconda3\\lib\\site-packages (from scikit-learn->sklearn) (1.16.4)\n",
      "Building wheels for collected packages: sklearn\n",
      "  Building wheel for sklearn (setup.py): started\n",
      "  Building wheel for sklearn (setup.py): finished with status 'done'\n",
      "  Stored in directory: C:\\Users\\luico\\AppData\\Local\\pip\\Cache\\wheels\\76\\03\\bb\\589d421d27431bcd2c6da284d5f2286c8e3b2ea3cf1594c074\n",
      "Successfully built sklearn\n",
      "Installing collected packages: sklearn\n",
      "Successfully installed sklearn-0.0\n"
     ]
    }
   ],
   "source": [
    "# Update sklearn to prevent version mismatches\n",
    "!pip install sklearn --upgrade"
   ]
  },
  {
   "cell_type": "code",
   "execution_count": 2,
   "metadata": {},
   "outputs": [
    {
     "name": "stdout",
     "output_type": "stream",
     "text": [
      "Requirement already satisfied: joblib in c:\\users\\luico\\anaconda3\\lib\\site-packages (0.13.2)\n"
     ]
    }
   ],
   "source": [
    "# install joblib. This will be used to save your model. \n",
    "# Restart your kernel after installing \n",
    "!pip install joblib"
   ]
  },
  {
   "cell_type": "code",
   "execution_count": 3,
   "metadata": {},
   "outputs": [],
   "source": [
    "import pandas as pd"
   ]
  },
  {
   "cell_type": "markdown",
   "metadata": {},
   "source": [
    "# Read the CSV and Perform Basic Data Cleaning"
   ]
  },
  {
   "cell_type": "code",
   "execution_count": 4,
   "metadata": {},
   "outputs": [
    {
     "data": {
      "text/html": [
       "<div>\n",
       "<style scoped>\n",
       "    .dataframe tbody tr th:only-of-type {\n",
       "        vertical-align: middle;\n",
       "    }\n",
       "\n",
       "    .dataframe tbody tr th {\n",
       "        vertical-align: top;\n",
       "    }\n",
       "\n",
       "    .dataframe thead th {\n",
       "        text-align: right;\n",
       "    }\n",
       "</style>\n",
       "<table border=\"1\" class=\"dataframe\">\n",
       "  <thead>\n",
       "    <tr style=\"text-align: right;\">\n",
       "      <th></th>\n",
       "      <th>koi_disposition</th>\n",
       "      <th>int_koi_disposition</th>\n",
       "      <th>koi_fpflag_ss</th>\n",
       "      <th>koi_fpflag_co</th>\n",
       "      <th>koi_fpflag_nt</th>\n",
       "      <th>koi_fpflag_ec</th>\n",
       "      <th>koi_model_snr</th>\n",
       "      <th>koi_depth</th>\n",
       "      <th>koi_tce_plnt_num</th>\n",
       "      <th>koi_impact_err1</th>\n",
       "      <th>koi_period</th>\n",
       "      <th>koi_teq</th>\n",
       "      <th>koi_steff_err1</th>\n",
       "      <th>ra</th>\n",
       "      <th>koi_slogg_err1</th>\n",
       "      <th>koi_duration_err1</th>\n",
       "      <th>koi_duration</th>\n",
       "    </tr>\n",
       "  </thead>\n",
       "  <tbody>\n",
       "    <tr>\n",
       "      <th>0</th>\n",
       "      <td>CONFIRMED</td>\n",
       "      <td>1</td>\n",
       "      <td>0</td>\n",
       "      <td>0</td>\n",
       "      <td>0</td>\n",
       "      <td>0</td>\n",
       "      <td>25.8</td>\n",
       "      <td>874.8</td>\n",
       "      <td>2</td>\n",
       "      <td>0.059</td>\n",
       "      <td>54.418383</td>\n",
       "      <td>443</td>\n",
       "      <td>81</td>\n",
       "      <td>291.93423</td>\n",
       "      <td>0.064</td>\n",
       "      <td>0.11600</td>\n",
       "      <td>4.50700</td>\n",
       "    </tr>\n",
       "    <tr>\n",
       "      <th>1</th>\n",
       "      <td>FALSE POSITIVE</td>\n",
       "      <td>0</td>\n",
       "      <td>1</td>\n",
       "      <td>0</td>\n",
       "      <td>0</td>\n",
       "      <td>0</td>\n",
       "      <td>76.3</td>\n",
       "      <td>10829.0</td>\n",
       "      <td>1</td>\n",
       "      <td>5.126</td>\n",
       "      <td>19.899140</td>\n",
       "      <td>638</td>\n",
       "      <td>158</td>\n",
       "      <td>297.00482</td>\n",
       "      <td>0.044</td>\n",
       "      <td>0.03410</td>\n",
       "      <td>1.78220</td>\n",
       "    </tr>\n",
       "    <tr>\n",
       "      <th>2</th>\n",
       "      <td>FALSE POSITIVE</td>\n",
       "      <td>0</td>\n",
       "      <td>1</td>\n",
       "      <td>0</td>\n",
       "      <td>0</td>\n",
       "      <td>0</td>\n",
       "      <td>505.6</td>\n",
       "      <td>8079.2</td>\n",
       "      <td>1</td>\n",
       "      <td>0.115</td>\n",
       "      <td>1.736952</td>\n",
       "      <td>1395</td>\n",
       "      <td>157</td>\n",
       "      <td>285.53461</td>\n",
       "      <td>0.053</td>\n",
       "      <td>0.00537</td>\n",
       "      <td>2.40641</td>\n",
       "    </tr>\n",
       "    <tr>\n",
       "      <th>3</th>\n",
       "      <td>CONFIRMED</td>\n",
       "      <td>1</td>\n",
       "      <td>0</td>\n",
       "      <td>0</td>\n",
       "      <td>0</td>\n",
       "      <td>0</td>\n",
       "      <td>40.9</td>\n",
       "      <td>603.3</td>\n",
       "      <td>1</td>\n",
       "      <td>0.235</td>\n",
       "      <td>2.525592</td>\n",
       "      <td>1406</td>\n",
       "      <td>169</td>\n",
       "      <td>288.75488</td>\n",
       "      <td>0.070</td>\n",
       "      <td>0.04200</td>\n",
       "      <td>1.65450</td>\n",
       "    </tr>\n",
       "    <tr>\n",
       "      <th>4</th>\n",
       "      <td>CONFIRMED</td>\n",
       "      <td>1</td>\n",
       "      <td>0</td>\n",
       "      <td>0</td>\n",
       "      <td>0</td>\n",
       "      <td>0</td>\n",
       "      <td>40.2</td>\n",
       "      <td>686.0</td>\n",
       "      <td>2</td>\n",
       "      <td>0.139</td>\n",
       "      <td>4.134435</td>\n",
       "      <td>1160</td>\n",
       "      <td>189</td>\n",
       "      <td>296.28613</td>\n",
       "      <td>0.054</td>\n",
       "      <td>0.06730</td>\n",
       "      <td>3.14020</td>\n",
       "    </tr>\n",
       "  </tbody>\n",
       "</table>\n",
       "</div>"
      ],
      "text/plain": [
       "  koi_disposition  int_koi_disposition  koi_fpflag_ss  koi_fpflag_co  \\\n",
       "0       CONFIRMED                    1              0              0   \n",
       "1  FALSE POSITIVE                    0              1              0   \n",
       "2  FALSE POSITIVE                    0              1              0   \n",
       "3       CONFIRMED                    1              0              0   \n",
       "4       CONFIRMED                    1              0              0   \n",
       "\n",
       "   koi_fpflag_nt  koi_fpflag_ec  koi_model_snr  koi_depth  koi_tce_plnt_num  \\\n",
       "0              0              0           25.8      874.8                 2   \n",
       "1              0              0           76.3    10829.0                 1   \n",
       "2              0              0          505.6     8079.2                 1   \n",
       "3              0              0           40.9      603.3                 1   \n",
       "4              0              0           40.2      686.0                 2   \n",
       "\n",
       "   koi_impact_err1  koi_period  koi_teq  koi_steff_err1         ra  \\\n",
       "0            0.059   54.418383      443              81  291.93423   \n",
       "1            5.126   19.899140      638             158  297.00482   \n",
       "2            0.115    1.736952     1395             157  285.53461   \n",
       "3            0.235    2.525592     1406             169  288.75488   \n",
       "4            0.139    4.134435     1160             189  296.28613   \n",
       "\n",
       "   koi_slogg_err1  koi_duration_err1  koi_duration  \n",
       "0           0.064            0.11600       4.50700  \n",
       "1           0.044            0.03410       1.78220  \n",
       "2           0.053            0.00537       2.40641  \n",
       "3           0.070            0.04200       1.65450  \n",
       "4           0.054            0.06730       3.14020  "
      ]
     },
     "execution_count": 4,
     "metadata": {},
     "output_type": "execute_result"
    }
   ],
   "source": [
    "df = pd.read_csv(\"cleaned_dataset.csv\")\n",
    "# Drop the null columns where all values are null\n",
    "df = df.dropna(axis='columns', how='all')\n",
    "# Drop the null rows\n",
    "df = df.dropna()\n",
    "df.head()"
   ]
  },
  {
   "cell_type": "markdown",
   "metadata": {},
   "source": [
    "# Select your features (columns)"
   ]
  },
  {
   "cell_type": "code",
   "execution_count": 15,
   "metadata": {
    "scrolled": true
   },
   "outputs": [
    {
     "data": {
      "text/plain": [
       "0       1\n",
       "1       0\n",
       "2       0\n",
       "3       1\n",
       "4       1\n",
       "5       1\n",
       "6       1\n",
       "7       1\n",
       "8       1\n",
       "9       1\n",
       "10      1\n",
       "11      0\n",
       "12      0\n",
       "13      0\n",
       "14      1\n",
       "15      1\n",
       "16      0\n",
       "17      1\n",
       "18      0\n",
       "19      1\n",
       "20      1\n",
       "21      1\n",
       "22      0\n",
       "23      0\n",
       "24      0\n",
       "25      1\n",
       "26      1\n",
       "27      1\n",
       "28      1\n",
       "29      2\n",
       "       ..\n",
       "6961    2\n",
       "6962    0\n",
       "6963    0\n",
       "6964    0\n",
       "6965    0\n",
       "6966    0\n",
       "6967    2\n",
       "6968    0\n",
       "6969    0\n",
       "6970    0\n",
       "6971    0\n",
       "6972    1\n",
       "6973    0\n",
       "6974    2\n",
       "6975    0\n",
       "6976    2\n",
       "6977    0\n",
       "6978    0\n",
       "6979    2\n",
       "6980    2\n",
       "6981    0\n",
       "6982    0\n",
       "6983    0\n",
       "6984    2\n",
       "6985    2\n",
       "6986    0\n",
       "6987    0\n",
       "6988    2\n",
       "6989    0\n",
       "6990    0\n",
       "Name: int_koi_disposition, Length: 6991, dtype: int64"
      ]
     },
     "execution_count": 15,
     "metadata": {},
     "output_type": "execute_result"
    }
   ],
   "source": [
    "# Set features. This will also be used as your x values.\n",
    "selected_features = df.iloc[:,2:]\n",
    "df_labels = df.iloc[:,0]\n",
    "targets = df.iloc[:,1]\n",
    "targets\n"
   ]
  },
  {
   "cell_type": "markdown",
   "metadata": {},
   "source": [
    "# Create a Train Test Split\n",
    "\n",
    "Use `koi_disposition` for the y values"
   ]
  },
  {
   "cell_type": "code",
   "execution_count": 16,
   "metadata": {},
   "outputs": [],
   "source": [
    "from sklearn.model_selection import train_test_split\n",
    "X_train, X_test, y_train, y_test = train_test_split(selected_features, targets, random_state=42, stratify=targets)"
   ]
  },
  {
   "cell_type": "code",
   "execution_count": 17,
   "metadata": {},
   "outputs": [
    {
     "data": {
      "text/html": [
       "<div>\n",
       "<style scoped>\n",
       "    .dataframe tbody tr th:only-of-type {\n",
       "        vertical-align: middle;\n",
       "    }\n",
       "\n",
       "    .dataframe tbody tr th {\n",
       "        vertical-align: top;\n",
       "    }\n",
       "\n",
       "    .dataframe thead th {\n",
       "        text-align: right;\n",
       "    }\n",
       "</style>\n",
       "<table border=\"1\" class=\"dataframe\">\n",
       "  <thead>\n",
       "    <tr style=\"text-align: right;\">\n",
       "      <th></th>\n",
       "      <th>koi_fpflag_ss</th>\n",
       "      <th>koi_fpflag_co</th>\n",
       "      <th>koi_fpflag_nt</th>\n",
       "      <th>koi_fpflag_ec</th>\n",
       "      <th>koi_model_snr</th>\n",
       "      <th>koi_depth</th>\n",
       "      <th>koi_tce_plnt_num</th>\n",
       "      <th>koi_impact_err1</th>\n",
       "      <th>koi_period</th>\n",
       "      <th>koi_teq</th>\n",
       "      <th>koi_steff_err1</th>\n",
       "      <th>ra</th>\n",
       "      <th>koi_slogg_err1</th>\n",
       "      <th>koi_duration_err1</th>\n",
       "      <th>koi_duration</th>\n",
       "    </tr>\n",
       "  </thead>\n",
       "  <tbody>\n",
       "    <tr>\n",
       "      <th>5042</th>\n",
       "      <td>0</td>\n",
       "      <td>0</td>\n",
       "      <td>1</td>\n",
       "      <td>0</td>\n",
       "      <td>12.0</td>\n",
       "      <td>980.7</td>\n",
       "      <td>1</td>\n",
       "      <td>0.165</td>\n",
       "      <td>1.444486</td>\n",
       "      <td>1051</td>\n",
       "      <td>137</td>\n",
       "      <td>291.48495</td>\n",
       "      <td>0.054</td>\n",
       "      <td>0.1280</td>\n",
       "      <td>1.4370</td>\n",
       "    </tr>\n",
       "    <tr>\n",
       "      <th>2838</th>\n",
       "      <td>0</td>\n",
       "      <td>0</td>\n",
       "      <td>0</td>\n",
       "      <td>0</td>\n",
       "      <td>13.9</td>\n",
       "      <td>66.3</td>\n",
       "      <td>1</td>\n",
       "      <td>0.095</td>\n",
       "      <td>14.265154</td>\n",
       "      <td>853</td>\n",
       "      <td>105</td>\n",
       "      <td>299.53479</td>\n",
       "      <td>0.156</td>\n",
       "      <td>0.1640</td>\n",
       "      <td>3.6010</td>\n",
       "    </tr>\n",
       "    <tr>\n",
       "      <th>2347</th>\n",
       "      <td>0</td>\n",
       "      <td>0</td>\n",
       "      <td>0</td>\n",
       "      <td>0</td>\n",
       "      <td>9.2</td>\n",
       "      <td>54.2</td>\n",
       "      <td>2</td>\n",
       "      <td>0.443</td>\n",
       "      <td>1.746101</td>\n",
       "      <td>1689</td>\n",
       "      <td>145</td>\n",
       "      <td>281.45718</td>\n",
       "      <td>0.637</td>\n",
       "      <td>0.2030</td>\n",
       "      <td>1.2990</td>\n",
       "    </tr>\n",
       "    <tr>\n",
       "      <th>6834</th>\n",
       "      <td>1</td>\n",
       "      <td>0</td>\n",
       "      <td>0</td>\n",
       "      <td>0</td>\n",
       "      <td>9.7</td>\n",
       "      <td>39.1</td>\n",
       "      <td>1</td>\n",
       "      <td>0.090</td>\n",
       "      <td>1.476231</td>\n",
       "      <td>1802</td>\n",
       "      <td>168</td>\n",
       "      <td>296.97861</td>\n",
       "      <td>0.067</td>\n",
       "      <td>0.2770</td>\n",
       "      <td>2.0320</td>\n",
       "    </tr>\n",
       "    <tr>\n",
       "      <th>4115</th>\n",
       "      <td>1</td>\n",
       "      <td>0</td>\n",
       "      <td>0</td>\n",
       "      <td>0</td>\n",
       "      <td>185.2</td>\n",
       "      <td>5386.3</td>\n",
       "      <td>1</td>\n",
       "      <td>0.305</td>\n",
       "      <td>41.166761</td>\n",
       "      <td>446</td>\n",
       "      <td>154</td>\n",
       "      <td>298.21094</td>\n",
       "      <td>0.093</td>\n",
       "      <td>0.0167</td>\n",
       "      <td>2.2133</td>\n",
       "    </tr>\n",
       "  </tbody>\n",
       "</table>\n",
       "</div>"
      ],
      "text/plain": [
       "      koi_fpflag_ss  koi_fpflag_co  koi_fpflag_nt  koi_fpflag_ec  \\\n",
       "5042              0              0              1              0   \n",
       "2838              0              0              0              0   \n",
       "2347              0              0              0              0   \n",
       "6834              1              0              0              0   \n",
       "4115              1              0              0              0   \n",
       "\n",
       "      koi_model_snr  koi_depth  koi_tce_plnt_num  koi_impact_err1  koi_period  \\\n",
       "5042           12.0      980.7                 1            0.165    1.444486   \n",
       "2838           13.9       66.3                 1            0.095   14.265154   \n",
       "2347            9.2       54.2                 2            0.443    1.746101   \n",
       "6834            9.7       39.1                 1            0.090    1.476231   \n",
       "4115          185.2     5386.3                 1            0.305   41.166761   \n",
       "\n",
       "      koi_teq  koi_steff_err1         ra  koi_slogg_err1  koi_duration_err1  \\\n",
       "5042     1051             137  291.48495           0.054             0.1280   \n",
       "2838      853             105  299.53479           0.156             0.1640   \n",
       "2347     1689             145  281.45718           0.637             0.2030   \n",
       "6834     1802             168  296.97861           0.067             0.2770   \n",
       "4115      446             154  298.21094           0.093             0.0167   \n",
       "\n",
       "      koi_duration  \n",
       "5042        1.4370  \n",
       "2838        3.6010  \n",
       "2347        1.2990  \n",
       "6834        2.0320  \n",
       "4115        2.2133  "
      ]
     },
     "execution_count": 17,
     "metadata": {},
     "output_type": "execute_result"
    }
   ],
   "source": [
    "X_train.head()"
   ]
  },
  {
   "cell_type": "markdown",
   "metadata": {},
   "source": [
    "# Pre-processing\n",
    "\n",
    "Scale the data using the MinMaxScaler and perform some feature selection"
   ]
  },
  {
   "cell_type": "code",
   "execution_count": 20,
   "metadata": {},
   "outputs": [
    {
     "data": {
      "text/plain": [
       "array([[1.00000000e+00, 0.00000000e+00, 0.00000000e+00, ...,\n",
       "        9.44293478e-02, 4.07425743e-04, 5.08151157e-02],\n",
       "       [0.00000000e+00, 0.00000000e+00, 0.00000000e+00, ...,\n",
       "        6.00543478e-01, 1.11386139e-02, 1.48222558e-02],\n",
       "       [0.00000000e+00, 0.00000000e+00, 1.00000000e+00, ...,\n",
       "        9.78260870e-02, 4.64851485e-02, 6.26495053e-02],\n",
       "       ...,\n",
       "       [1.00000000e+00, 0.00000000e+00, 0.00000000e+00, ...,\n",
       "        1.32472826e-01, 1.15841584e-04, 5.27168595e-02],\n",
       "       [1.00000000e+00, 0.00000000e+00, 0.00000000e+00, ...,\n",
       "        3.53260870e-02, 1.71287129e-03, 1.38502454e-02],\n",
       "       [0.00000000e+00, 0.00000000e+00, 0.00000000e+00, ...,\n",
       "        7.06521739e-02, 6.03960396e-03, 2.21213676e-02]])"
      ]
     },
     "execution_count": 20,
     "metadata": {},
     "output_type": "execute_result"
    }
   ],
   "source": [
    "# Scale your data\n",
    "from sklearn.preprocessing import MinMaxScaler\n",
    "X_scaler = MinMaxScaler().fit(X_train)\n",
    "X_train_scaled = X_scaler.transform(X_train)\n",
    "X_test_scaled = X_scaler.transform(X_test)"
   ]
  },
  {
   "cell_type": "markdown",
   "metadata": {},
   "source": [
    "# Train the Model\n",
    "\n"
   ]
  },
  {
   "cell_type": "code",
   "execution_count": 25,
   "metadata": {
    "scrolled": true
   },
   "outputs": [
    {
     "name": "stderr",
     "output_type": "stream",
     "text": [
      "C:\\Users\\luico\\Anaconda3\\lib\\site-packages\\sklearn\\model_selection\\_split.py:1978: FutureWarning: The default value of cv will change from 3 to 5 in version 0.22. Specify it explicitly to silence this warning.\n",
      "  warnings.warn(CV_WARNING, FutureWarning)\n",
      "[Parallel(n_jobs=1)]: Using backend SequentialBackend with 1 concurrent workers.\n",
      "[Parallel(n_jobs=1)]: Done   1 out of   1 | elapsed:    0.0s remaining:    0.0s\n"
     ]
    },
    {
     "name": "stdout",
     "output_type": "stream",
     "text": [
      "Fitting 3 folds for each of 9 candidates, totalling 27 fits\n",
      "[CV] C=1, gamma=0.0001 ...............................................\n",
      "[CV] ................... C=1, gamma=0.0001, score=0.833, total=   0.1s\n",
      "[CV] C=1, gamma=0.0001 ...............................................\n",
      "[CV] ................... C=1, gamma=0.0001, score=0.824, total=   0.1s\n",
      "[CV] C=1, gamma=0.0001 ...............................................\n",
      "[CV] ................... C=1, gamma=0.0001, score=0.825, total=   0.1s\n",
      "[CV] C=1, gamma=0.001 ................................................\n",
      "[CV] .................... C=1, gamma=0.001, score=0.833, total=   0.1s\n",
      "[CV] C=1, gamma=0.001 ................................................\n"
     ]
    },
    {
     "name": "stderr",
     "output_type": "stream",
     "text": [
      "[Parallel(n_jobs=1)]: Done   2 out of   2 | elapsed:    0.1s remaining:    0.0s\n"
     ]
    },
    {
     "name": "stdout",
     "output_type": "stream",
     "text": [
      "[CV] .................... C=1, gamma=0.001, score=0.824, total=   0.1s\n",
      "[CV] C=1, gamma=0.001 ................................................\n",
      "[CV] .................... C=1, gamma=0.001, score=0.825, total=   0.1s\n",
      "[CV] C=1, gamma=0.01 .................................................\n",
      "[CV] ..................... C=1, gamma=0.01, score=0.833, total=   0.1s\n",
      "[CV] C=1, gamma=0.01 .................................................\n",
      "[CV] ..................... C=1, gamma=0.01, score=0.824, total=   0.1s\n",
      "[CV] C=1, gamma=0.01 .................................................\n",
      "[CV] ..................... C=1, gamma=0.01, score=0.825, total=   0.1s\n",
      "[CV] C=5, gamma=0.0001 ...............................................\n",
      "[CV] ................... C=5, gamma=0.0001, score=0.847, total=   0.1s\n",
      "[CV] C=5, gamma=0.0001 ...............................................\n",
      "[CV] ................... C=5, gamma=0.0001, score=0.840, total=   0.1s\n",
      "[CV] C=5, gamma=0.0001 ...............................................\n",
      "[CV] ................... C=5, gamma=0.0001, score=0.837, total=   0.1s\n",
      "[CV] C=5, gamma=0.001 ................................................\n",
      "[CV] .................... C=5, gamma=0.001, score=0.847, total=   0.1s\n",
      "[CV] C=5, gamma=0.001 ................................................\n",
      "[CV] .................... C=5, gamma=0.001, score=0.840, total=   0.1s\n",
      "[CV] C=5, gamma=0.001 ................................................\n",
      "[CV] .................... C=5, gamma=0.001, score=0.837, total=   0.1s\n",
      "[CV] C=5, gamma=0.01 .................................................\n",
      "[CV] ..................... C=5, gamma=0.01, score=0.847, total=   0.1s\n",
      "[CV] C=5, gamma=0.01 .................................................\n",
      "[CV] ..................... C=5, gamma=0.01, score=0.840, total=   0.1s\n",
      "[CV] C=5, gamma=0.01 .................................................\n",
      "[CV] ..................... C=5, gamma=0.01, score=0.837, total=   0.1s\n",
      "[CV] C=10, gamma=0.0001 ..............................................\n",
      "[CV] .................. C=10, gamma=0.0001, score=0.859, total=   0.1s\n",
      "[CV] C=10, gamma=0.0001 ..............................................\n",
      "[CV] .................. C=10, gamma=0.0001, score=0.847, total=   0.1s\n",
      "[CV] C=10, gamma=0.0001 ..............................................\n",
      "[CV] .................. C=10, gamma=0.0001, score=0.848, total=   0.1s\n",
      "[CV] C=10, gamma=0.001 ...............................................\n",
      "[CV] ................... C=10, gamma=0.001, score=0.859, total=   0.1s\n",
      "[CV] C=10, gamma=0.001 ...............................................\n",
      "[CV] ................... C=10, gamma=0.001, score=0.847, total=   0.1s\n",
      "[CV] C=10, gamma=0.001 ...............................................\n",
      "[CV] ................... C=10, gamma=0.001, score=0.848, total=   0.1s\n",
      "[CV] C=10, gamma=0.01 ................................................\n",
      "[CV] .................... C=10, gamma=0.01, score=0.859, total=   0.1s\n",
      "[CV] C=10, gamma=0.01 ................................................\n",
      "[CV] .................... C=10, gamma=0.01, score=0.847, total=   0.1s\n",
      "[CV] C=10, gamma=0.01 ................................................\n",
      "[CV] .................... C=10, gamma=0.01, score=0.848, total=   0.1s\n"
     ]
    },
    {
     "name": "stderr",
     "output_type": "stream",
     "text": [
      "[Parallel(n_jobs=1)]: Done  27 out of  27 | elapsed:    3.0s finished\n"
     ]
    },
    {
     "data": {
      "text/plain": [
       "GridSearchCV(cv='warn', error_score='raise-deprecating',\n",
       "             estimator=SVC(C=1.0, cache_size=200, class_weight=None, coef0=0.0,\n",
       "                           decision_function_shape='ovr', degree=3,\n",
       "                           gamma='auto_deprecated', kernel='linear',\n",
       "                           max_iter=-1, probability=False, random_state=None,\n",
       "                           shrinking=True, tol=0.001, verbose=False),\n",
       "             iid='warn', n_jobs=None,\n",
       "             param_grid={'C': [1, 5, 10], 'gamma': [0.0001, 0.001, 0.01]},\n",
       "             pre_dispatch='2*n_jobs', refit=True, return_train_score=False,\n",
       "             scoring=None, verbose=3)"
      ]
     },
     "execution_count": 25,
     "metadata": {},
     "output_type": "execute_result"
    }
   ],
   "source": [
    "from sklearn.svm import SVC \n",
    "from sklearn.model_selection import GridSearchCV\n",
    "\n",
    "model2 = SVC(kernel='linear')\n",
    "param_grid = {'C': [1, 5, 10],\n",
    "              'gamma': [0.0001, 0.001, 0.01]}\n",
    "grid2 = GridSearchCV(model2, param_grid, verbose=3)\n",
    "\n",
    "grid2.fit(X_train_scaled, y_train)"
   ]
  },
  {
   "cell_type": "code",
   "execution_count": 31,
   "metadata": {},
   "outputs": [
    {
     "name": "stdout",
     "output_type": "stream",
     "text": [
      "Training Data Score: 0.8594316231165363\n",
      "Testing Data Score: 0.8569794050343249\n"
     ]
    }
   ],
   "source": [
    "print(f\"Training Data Score: {grid2.score(X_train_scaled, y_train)}\")\n",
    "print(f\"Testing Data Score: {grid2.score(X_test_scaled, y_test)}\")"
   ]
  },
  {
   "cell_type": "markdown",
   "metadata": {},
   "source": [
    "# Hyperparameter Tuning\n",
    "\n",
    "Use `GridSearchCV` to tune the model's parameters"
   ]
  },
  {
   "cell_type": "code",
   "execution_count": null,
   "metadata": {},
   "outputs": [],
   "source": [
    "# Create the GridSearchCV model"
   ]
  },
  {
   "cell_type": "code",
   "execution_count": null,
   "metadata": {},
   "outputs": [],
   "source": [
    "# Train the model with GridSearch"
   ]
  },
  {
   "cell_type": "code",
   "execution_count": 29,
   "metadata": {
    "scrolled": true
   },
   "outputs": [
    {
     "name": "stdout",
     "output_type": "stream",
     "text": [
      "                precision    recall  f1-score   support\n",
      "\n",
      "FALSE POSITIVE       0.71      1.00      0.83       876\n",
      "     CONFIRMED       0.00      0.00      0.00       450\n",
      "     CANDIDATE       0.55      0.68      0.61       422\n",
      "\n",
      "      accuracy                           0.66      1748\n",
      "     macro avg       0.42      0.56      0.48      1748\n",
      "  weighted avg       0.49      0.66      0.56      1748\n",
      "\n"
     ]
    },
    {
     "name": "stderr",
     "output_type": "stream",
     "text": [
      "C:\\Users\\luico\\Anaconda3\\lib\\site-packages\\sklearn\\metrics\\classification.py:1437: UndefinedMetricWarning: Precision and F-score are ill-defined and being set to 0.0 in labels with no predicted samples.\n",
      "  'precision', 'predicted', average, warn_for)\n"
     ]
    }
   ],
   "source": [
    "predictions = grid.predict(X_test)\n",
    "from sklearn.metrics import classification_report\n",
    "print(classification_report(y_test, predictions,\n",
    "                            target_names=['FALSE POSITIVE', 'CONFIRMED','CANDIDATE']))"
   ]
  },
  {
   "cell_type": "code",
   "execution_count": 30,
   "metadata": {},
   "outputs": [
    {
     "data": {
      "text/plain": [
       "array([0, 0, 0, ..., 0, 0, 0], dtype=int64)"
      ]
     },
     "execution_count": 30,
     "metadata": {},
     "output_type": "execute_result"
    }
   ],
   "source": []
  },
  {
   "cell_type": "code",
   "execution_count": 26,
   "metadata": {},
   "outputs": [
    {
     "name": "stdout",
     "output_type": "stream",
     "text": [
      "{'C': 10, 'gamma': 0.0001}\n",
      "0.8514209422086592\n"
     ]
    }
   ],
   "source": [
    "print(grid2.best_params_)\n",
    "print(grid2.best_score_)"
   ]
  },
  {
   "cell_type": "markdown",
   "metadata": {},
   "source": [
    "# Save the Model"
   ]
  },
  {
   "cell_type": "code",
   "execution_count": null,
   "metadata": {},
   "outputs": [],
   "source": [
    "# save your model by updating \"your_name\" with your name\n",
    "# and \"your_model\" with your model variable\n",
    "# be sure to turn this in to BCS\n",
    "# if joblib fails to import, try running the command to install in terminal/git-bash\n",
    "import joblib\n",
    "filename = 'your_name.sav'\n",
    "joblib.dump(your_model, filename)"
   ]
  }
 ],
 "metadata": {
  "kernel_info": {
   "name": "dev"
  },
  "kernelspec": {
   "display_name": "Python [conda env:root] *",
   "language": "python",
   "name": "conda-root-py"
  },
  "language_info": {
   "codemirror_mode": {
    "name": "ipython",
    "version": 3
   },
   "file_extension": ".py",
   "mimetype": "text/x-python",
   "name": "python",
   "nbconvert_exporter": "python",
   "pygments_lexer": "ipython3",
   "version": "3.7.3"
  },
  "nteract": {
   "version": "0.12.3"
  }
 },
 "nbformat": 4,
 "nbformat_minor": 2
}
