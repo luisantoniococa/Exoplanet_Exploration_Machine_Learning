{
 "cells": [
  {
   "cell_type": "code",
   "execution_count": 1,
   "metadata": {},
   "outputs": [
    {
     "name": "stdout",
     "output_type": "stream",
     "text": [
      "Collecting sklearn\n",
      "  Using cached https://files.pythonhosted.org/packages/1e/7a/dbb3be0ce9bd5c8b7e3d87328e79063f8b263b2b1bfa4774cb1147bfcd3f/sklearn-0.0.tar.gz\n",
      "Requirement already satisfied, skipping upgrade: scikit-learn in c:\\users\\luico\\anaconda3\\lib\\site-packages (from sklearn) (0.21.2)\n",
      "Requirement already satisfied, skipping upgrade: scipy>=0.17.0 in c:\\users\\luico\\anaconda3\\lib\\site-packages (from scikit-learn->sklearn) (1.2.1)\n",
      "Requirement already satisfied, skipping upgrade: joblib>=0.11 in c:\\users\\luico\\anaconda3\\lib\\site-packages (from scikit-learn->sklearn) (0.13.2)\n",
      "Requirement already satisfied, skipping upgrade: numpy>=1.11.0 in c:\\users\\luico\\anaconda3\\lib\\site-packages (from scikit-learn->sklearn) (1.16.4)\n",
      "Building wheels for collected packages: sklearn\n",
      "  Building wheel for sklearn (setup.py): started\n",
      "  Building wheel for sklearn (setup.py): finished with status 'done'\n",
      "  Stored in directory: C:\\Users\\luico\\AppData\\Local\\pip\\Cache\\wheels\\76\\03\\bb\\589d421d27431bcd2c6da284d5f2286c8e3b2ea3cf1594c074\n",
      "Successfully built sklearn\n",
      "Installing collected packages: sklearn\n",
      "Successfully installed sklearn-0.0\n"
     ]
    }
   ],
   "source": [
    "# Update sklearn to prevent version mismatches\n",
    "# !pip install sklearn --upgrade"
   ]
  },
  {
   "cell_type": "code",
   "execution_count": 2,
   "metadata": {},
   "outputs": [
    {
     "name": "stdout",
     "output_type": "stream",
     "text": [
      "Requirement already satisfied: joblib in c:\\users\\luico\\anaconda3\\lib\\site-packages (0.13.2)\n"
     ]
    }
   ],
   "source": [
    "# install joblib. This will be used to save your model. \n",
    "# Restart your kernel after installing \n",
    "# !pip install joblib"
   ]
  },
  {
   "cell_type": "code",
   "execution_count": 3,
   "metadata": {},
   "outputs": [],
   "source": [
    "import pandas as pd"
   ]
  },
  {
   "cell_type": "markdown",
   "metadata": {},
   "source": [
    "# Read the CSV and Perform Basic Data Cleaning"
   ]
  },
  {
   "cell_type": "code",
   "execution_count": 4,
   "metadata": {},
   "outputs": [
    {
     "data": {
      "text/html": [
       "<div>\n",
       "<style scoped>\n",
       "    .dataframe tbody tr th:only-of-type {\n",
       "        vertical-align: middle;\n",
       "    }\n",
       "\n",
       "    .dataframe tbody tr th {\n",
       "        vertical-align: top;\n",
       "    }\n",
       "\n",
       "    .dataframe thead th {\n",
       "        text-align: right;\n",
       "    }\n",
       "</style>\n",
       "<table border=\"1\" class=\"dataframe\">\n",
       "  <thead>\n",
       "    <tr style=\"text-align: right;\">\n",
       "      <th></th>\n",
       "      <th>koi_disposition</th>\n",
       "      <th>int_koi_disposition</th>\n",
       "      <th>koi_fpflag_ss</th>\n",
       "      <th>koi_fpflag_co</th>\n",
       "      <th>koi_fpflag_nt</th>\n",
       "      <th>koi_fpflag_ec</th>\n",
       "      <th>koi_model_snr</th>\n",
       "      <th>koi_depth</th>\n",
       "      <th>koi_tce_plnt_num</th>\n",
       "      <th>koi_impact_err1</th>\n",
       "      <th>koi_period</th>\n",
       "      <th>koi_teq</th>\n",
       "      <th>koi_steff_err1</th>\n",
       "      <th>ra</th>\n",
       "      <th>koi_slogg_err1</th>\n",
       "      <th>koi_duration_err1</th>\n",
       "      <th>koi_duration</th>\n",
       "    </tr>\n",
       "  </thead>\n",
       "  <tbody>\n",
       "    <tr>\n",
       "      <th>0</th>\n",
       "      <td>CONFIRMED</td>\n",
       "      <td>1</td>\n",
       "      <td>0</td>\n",
       "      <td>0</td>\n",
       "      <td>0</td>\n",
       "      <td>0</td>\n",
       "      <td>25.8</td>\n",
       "      <td>874.8</td>\n",
       "      <td>2</td>\n",
       "      <td>0.059</td>\n",
       "      <td>54.418383</td>\n",
       "      <td>443</td>\n",
       "      <td>81</td>\n",
       "      <td>291.93423</td>\n",
       "      <td>0.064</td>\n",
       "      <td>0.11600</td>\n",
       "      <td>4.50700</td>\n",
       "    </tr>\n",
       "    <tr>\n",
       "      <th>1</th>\n",
       "      <td>FALSE POSITIVE</td>\n",
       "      <td>0</td>\n",
       "      <td>1</td>\n",
       "      <td>0</td>\n",
       "      <td>0</td>\n",
       "      <td>0</td>\n",
       "      <td>76.3</td>\n",
       "      <td>10829.0</td>\n",
       "      <td>1</td>\n",
       "      <td>5.126</td>\n",
       "      <td>19.899140</td>\n",
       "      <td>638</td>\n",
       "      <td>158</td>\n",
       "      <td>297.00482</td>\n",
       "      <td>0.044</td>\n",
       "      <td>0.03410</td>\n",
       "      <td>1.78220</td>\n",
       "    </tr>\n",
       "    <tr>\n",
       "      <th>2</th>\n",
       "      <td>FALSE POSITIVE</td>\n",
       "      <td>0</td>\n",
       "      <td>1</td>\n",
       "      <td>0</td>\n",
       "      <td>0</td>\n",
       "      <td>0</td>\n",
       "      <td>505.6</td>\n",
       "      <td>8079.2</td>\n",
       "      <td>1</td>\n",
       "      <td>0.115</td>\n",
       "      <td>1.736952</td>\n",
       "      <td>1395</td>\n",
       "      <td>157</td>\n",
       "      <td>285.53461</td>\n",
       "      <td>0.053</td>\n",
       "      <td>0.00537</td>\n",
       "      <td>2.40641</td>\n",
       "    </tr>\n",
       "    <tr>\n",
       "      <th>3</th>\n",
       "      <td>CONFIRMED</td>\n",
       "      <td>1</td>\n",
       "      <td>0</td>\n",
       "      <td>0</td>\n",
       "      <td>0</td>\n",
       "      <td>0</td>\n",
       "      <td>40.9</td>\n",
       "      <td>603.3</td>\n",
       "      <td>1</td>\n",
       "      <td>0.235</td>\n",
       "      <td>2.525592</td>\n",
       "      <td>1406</td>\n",
       "      <td>169</td>\n",
       "      <td>288.75488</td>\n",
       "      <td>0.070</td>\n",
       "      <td>0.04200</td>\n",
       "      <td>1.65450</td>\n",
       "    </tr>\n",
       "    <tr>\n",
       "      <th>4</th>\n",
       "      <td>CONFIRMED</td>\n",
       "      <td>1</td>\n",
       "      <td>0</td>\n",
       "      <td>0</td>\n",
       "      <td>0</td>\n",
       "      <td>0</td>\n",
       "      <td>40.2</td>\n",
       "      <td>686.0</td>\n",
       "      <td>2</td>\n",
       "      <td>0.139</td>\n",
       "      <td>4.134435</td>\n",
       "      <td>1160</td>\n",
       "      <td>189</td>\n",
       "      <td>296.28613</td>\n",
       "      <td>0.054</td>\n",
       "      <td>0.06730</td>\n",
       "      <td>3.14020</td>\n",
       "    </tr>\n",
       "  </tbody>\n",
       "</table>\n",
       "</div>"
      ],
      "text/plain": [
       "  koi_disposition  int_koi_disposition  koi_fpflag_ss  koi_fpflag_co  \\\n",
       "0       CONFIRMED                    1              0              0   \n",
       "1  FALSE POSITIVE                    0              1              0   \n",
       "2  FALSE POSITIVE                    0              1              0   \n",
       "3       CONFIRMED                    1              0              0   \n",
       "4       CONFIRMED                    1              0              0   \n",
       "\n",
       "   koi_fpflag_nt  koi_fpflag_ec  koi_model_snr  koi_depth  koi_tce_plnt_num  \\\n",
       "0              0              0           25.8      874.8                 2   \n",
       "1              0              0           76.3    10829.0                 1   \n",
       "2              0              0          505.6     8079.2                 1   \n",
       "3              0              0           40.9      603.3                 1   \n",
       "4              0              0           40.2      686.0                 2   \n",
       "\n",
       "   koi_impact_err1  koi_period  koi_teq  koi_steff_err1         ra  \\\n",
       "0            0.059   54.418383      443              81  291.93423   \n",
       "1            5.126   19.899140      638             158  297.00482   \n",
       "2            0.115    1.736952     1395             157  285.53461   \n",
       "3            0.235    2.525592     1406             169  288.75488   \n",
       "4            0.139    4.134435     1160             189  296.28613   \n",
       "\n",
       "   koi_slogg_err1  koi_duration_err1  koi_duration  \n",
       "0           0.064            0.11600       4.50700  \n",
       "1           0.044            0.03410       1.78220  \n",
       "2           0.053            0.00537       2.40641  \n",
       "3           0.070            0.04200       1.65450  \n",
       "4           0.054            0.06730       3.14020  "
      ]
     },
     "execution_count": 4,
     "metadata": {},
     "output_type": "execute_result"
    }
   ],
   "source": [
    "df = pd.read_csv(\"cleaned_dataset.csv\")\n",
    "# Drop the null columns where all values are null\n",
    "df = df.dropna(axis='columns', how='all')\n",
    "# Drop the null rows\n",
    "df = df.dropna()\n",
    "df.head()"
   ]
  },
  {
   "cell_type": "markdown",
   "metadata": {},
   "source": [
    "# Select your features (columns)"
   ]
  },
  {
   "cell_type": "code",
   "execution_count": 5,
   "metadata": {
    "scrolled": true
   },
   "outputs": [
    {
     "data": {
      "text/plain": [
       "0       1\n",
       "1       0\n",
       "2       0\n",
       "3       1\n",
       "4       1\n",
       "       ..\n",
       "6986    0\n",
       "6987    0\n",
       "6988    2\n",
       "6989    0\n",
       "6990    0\n",
       "Name: int_koi_disposition, Length: 6991, dtype: int64"
      ]
     },
     "execution_count": 5,
     "metadata": {},
     "output_type": "execute_result"
    }
   ],
   "source": [
    "# Set features. This will also be used as your x values.\n",
    "selected_features = df.iloc[:,2:]\n",
    "df_labels = df.iloc[:,0]\n",
    "targets = df.iloc[:,1]\n",
    "targets\n"
   ]
  },
  {
   "cell_type": "markdown",
   "metadata": {},
   "source": [
    "# Create a Train Test Split\n",
    "\n",
    "Use `koi_disposition` for the y values"
   ]
  },
  {
   "cell_type": "code",
   "execution_count": 6,
   "metadata": {},
   "outputs": [],
   "source": [
    "from sklearn.model_selection import train_test_split\n",
    "X_train, X_test, y_train, y_test = train_test_split(selected_features, targets, random_state=42, stratify=targets)"
   ]
  },
  {
   "cell_type": "code",
   "execution_count": 7,
   "metadata": {},
   "outputs": [
    {
     "data": {
      "text/html": [
       "<div>\n",
       "<style scoped>\n",
       "    .dataframe tbody tr th:only-of-type {\n",
       "        vertical-align: middle;\n",
       "    }\n",
       "\n",
       "    .dataframe tbody tr th {\n",
       "        vertical-align: top;\n",
       "    }\n",
       "\n",
       "    .dataframe thead th {\n",
       "        text-align: right;\n",
       "    }\n",
       "</style>\n",
       "<table border=\"1\" class=\"dataframe\">\n",
       "  <thead>\n",
       "    <tr style=\"text-align: right;\">\n",
       "      <th></th>\n",
       "      <th>koi_fpflag_ss</th>\n",
       "      <th>koi_fpflag_co</th>\n",
       "      <th>koi_fpflag_nt</th>\n",
       "      <th>koi_fpflag_ec</th>\n",
       "      <th>koi_model_snr</th>\n",
       "      <th>koi_depth</th>\n",
       "      <th>koi_tce_plnt_num</th>\n",
       "      <th>koi_impact_err1</th>\n",
       "      <th>koi_period</th>\n",
       "      <th>koi_teq</th>\n",
       "      <th>koi_steff_err1</th>\n",
       "      <th>ra</th>\n",
       "      <th>koi_slogg_err1</th>\n",
       "      <th>koi_duration_err1</th>\n",
       "      <th>koi_duration</th>\n",
       "    </tr>\n",
       "  </thead>\n",
       "  <tbody>\n",
       "    <tr>\n",
       "      <th>5042</th>\n",
       "      <td>0</td>\n",
       "      <td>0</td>\n",
       "      <td>1</td>\n",
       "      <td>0</td>\n",
       "      <td>12.0</td>\n",
       "      <td>980.7</td>\n",
       "      <td>1</td>\n",
       "      <td>0.165</td>\n",
       "      <td>1.444486</td>\n",
       "      <td>1051</td>\n",
       "      <td>137</td>\n",
       "      <td>291.48495</td>\n",
       "      <td>0.054</td>\n",
       "      <td>0.1280</td>\n",
       "      <td>1.4370</td>\n",
       "    </tr>\n",
       "    <tr>\n",
       "      <th>2838</th>\n",
       "      <td>0</td>\n",
       "      <td>0</td>\n",
       "      <td>0</td>\n",
       "      <td>0</td>\n",
       "      <td>13.9</td>\n",
       "      <td>66.3</td>\n",
       "      <td>1</td>\n",
       "      <td>0.095</td>\n",
       "      <td>14.265154</td>\n",
       "      <td>853</td>\n",
       "      <td>105</td>\n",
       "      <td>299.53479</td>\n",
       "      <td>0.156</td>\n",
       "      <td>0.1640</td>\n",
       "      <td>3.6010</td>\n",
       "    </tr>\n",
       "    <tr>\n",
       "      <th>2347</th>\n",
       "      <td>0</td>\n",
       "      <td>0</td>\n",
       "      <td>0</td>\n",
       "      <td>0</td>\n",
       "      <td>9.2</td>\n",
       "      <td>54.2</td>\n",
       "      <td>2</td>\n",
       "      <td>0.443</td>\n",
       "      <td>1.746101</td>\n",
       "      <td>1689</td>\n",
       "      <td>145</td>\n",
       "      <td>281.45718</td>\n",
       "      <td>0.637</td>\n",
       "      <td>0.2030</td>\n",
       "      <td>1.2990</td>\n",
       "    </tr>\n",
       "    <tr>\n",
       "      <th>6834</th>\n",
       "      <td>1</td>\n",
       "      <td>0</td>\n",
       "      <td>0</td>\n",
       "      <td>0</td>\n",
       "      <td>9.7</td>\n",
       "      <td>39.1</td>\n",
       "      <td>1</td>\n",
       "      <td>0.090</td>\n",
       "      <td>1.476231</td>\n",
       "      <td>1802</td>\n",
       "      <td>168</td>\n",
       "      <td>296.97861</td>\n",
       "      <td>0.067</td>\n",
       "      <td>0.2770</td>\n",
       "      <td>2.0320</td>\n",
       "    </tr>\n",
       "    <tr>\n",
       "      <th>4115</th>\n",
       "      <td>1</td>\n",
       "      <td>0</td>\n",
       "      <td>0</td>\n",
       "      <td>0</td>\n",
       "      <td>185.2</td>\n",
       "      <td>5386.3</td>\n",
       "      <td>1</td>\n",
       "      <td>0.305</td>\n",
       "      <td>41.166761</td>\n",
       "      <td>446</td>\n",
       "      <td>154</td>\n",
       "      <td>298.21094</td>\n",
       "      <td>0.093</td>\n",
       "      <td>0.0167</td>\n",
       "      <td>2.2133</td>\n",
       "    </tr>\n",
       "  </tbody>\n",
       "</table>\n",
       "</div>"
      ],
      "text/plain": [
       "      koi_fpflag_ss  koi_fpflag_co  koi_fpflag_nt  koi_fpflag_ec  \\\n",
       "5042              0              0              1              0   \n",
       "2838              0              0              0              0   \n",
       "2347              0              0              0              0   \n",
       "6834              1              0              0              0   \n",
       "4115              1              0              0              0   \n",
       "\n",
       "      koi_model_snr  koi_depth  koi_tce_plnt_num  koi_impact_err1  koi_period  \\\n",
       "5042           12.0      980.7                 1            0.165    1.444486   \n",
       "2838           13.9       66.3                 1            0.095   14.265154   \n",
       "2347            9.2       54.2                 2            0.443    1.746101   \n",
       "6834            9.7       39.1                 1            0.090    1.476231   \n",
       "4115          185.2     5386.3                 1            0.305   41.166761   \n",
       "\n",
       "      koi_teq  koi_steff_err1         ra  koi_slogg_err1  koi_duration_err1  \\\n",
       "5042     1051             137  291.48495           0.054             0.1280   \n",
       "2838      853             105  299.53479           0.156             0.1640   \n",
       "2347     1689             145  281.45718           0.637             0.2030   \n",
       "6834     1802             168  296.97861           0.067             0.2770   \n",
       "4115      446             154  298.21094           0.093             0.0167   \n",
       "\n",
       "      koi_duration  \n",
       "5042        1.4370  \n",
       "2838        3.6010  \n",
       "2347        1.2990  \n",
       "6834        2.0320  \n",
       "4115        2.2133  "
      ]
     },
     "execution_count": 7,
     "metadata": {},
     "output_type": "execute_result"
    }
   ],
   "source": [
    "X_train.head()"
   ]
  },
  {
   "cell_type": "markdown",
   "metadata": {},
   "source": [
    "# Pre-processing\n",
    "\n",
    "Scale the data using the MinMaxScaler and perform some feature selection"
   ]
  },
  {
   "cell_type": "code",
   "execution_count": 8,
   "metadata": {},
   "outputs": [],
   "source": [
    "# Scale your data\n",
    "from sklearn.preprocessing import MinMaxScaler\n",
    "X_scaler = MinMaxScaler().fit(X_train)\n",
    "X_train_scaled = X_scaler.transform(X_train)\n",
    "X_test_scaled = X_scaler.transform(X_test)"
   ]
  },
  {
   "cell_type": "markdown",
   "metadata": {},
   "source": [
    "# Train the Model\n",
    "\n"
   ]
  },
  {
   "cell_type": "code",
   "execution_count": 9,
   "metadata": {
    "scrolled": true
   },
   "outputs": [
    {
     "name": "stdout",
     "output_type": "stream",
     "text": [
      "Fitting 5 folds for each of 9 candidates, totalling 45 fits\n",
      "[CV] C=1, gamma=0.0001 ...............................................\n",
      "[CV] ................... C=1, gamma=0.0001, score=0.831, total=   0.1s\n",
      "[CV] C=1, gamma=0.0001 ...............................................\n"
     ]
    },
    {
     "name": "stderr",
     "output_type": "stream",
     "text": [
      "[Parallel(n_jobs=1)]: Using backend SequentialBackend with 1 concurrent workers.\n",
      "[Parallel(n_jobs=1)]: Done   1 out of   1 | elapsed:    0.0s remaining:    0.0s\n"
     ]
    },
    {
     "name": "stdout",
     "output_type": "stream",
     "text": [
      "[CV] ................... C=1, gamma=0.0001, score=0.837, total=   0.1s\n",
      "[CV] C=1, gamma=0.0001 ...............................................\n",
      "[CV] ................... C=1, gamma=0.0001, score=0.824, total=   0.1s\n",
      "[CV] C=1, gamma=0.0001 ...............................................\n"
     ]
    },
    {
     "name": "stderr",
     "output_type": "stream",
     "text": [
      "[Parallel(n_jobs=1)]: Done   2 out of   2 | elapsed:    0.2s remaining:    0.0s\n"
     ]
    },
    {
     "name": "stdout",
     "output_type": "stream",
     "text": [
      "[CV] ................... C=1, gamma=0.0001, score=0.823, total=   0.1s\n",
      "[CV] C=1, gamma=0.0001 ...............................................\n",
      "[CV] ................... C=1, gamma=0.0001, score=0.831, total=   0.1s\n",
      "[CV] C=1, gamma=0.001 ................................................\n",
      "[CV] .................... C=1, gamma=0.001, score=0.831, total=   0.1s\n",
      "[CV] C=1, gamma=0.001 ................................................\n",
      "[CV] .................... C=1, gamma=0.001, score=0.837, total=   0.1s\n",
      "[CV] C=1, gamma=0.001 ................................................\n",
      "[CV] .................... C=1, gamma=0.001, score=0.824, total=   0.1s\n",
      "[CV] C=1, gamma=0.001 ................................................\n",
      "[CV] .................... C=1, gamma=0.001, score=0.823, total=   0.1s\n",
      "[CV] C=1, gamma=0.001 ................................................\n",
      "[CV] .................... C=1, gamma=0.001, score=0.831, total=   0.1s\n",
      "[CV] C=1, gamma=0.01 .................................................\n",
      "[CV] ..................... C=1, gamma=0.01, score=0.831, total=   0.1s\n",
      "[CV] C=1, gamma=0.01 .................................................\n",
      "[CV] ..................... C=1, gamma=0.01, score=0.837, total=   0.1s\n",
      "[CV] C=1, gamma=0.01 .................................................\n",
      "[CV] ..................... C=1, gamma=0.01, score=0.824, total=   0.1s\n",
      "[CV] C=1, gamma=0.01 .................................................\n",
      "[CV] ..................... C=1, gamma=0.01, score=0.823, total=   0.1s\n",
      "[CV] C=1, gamma=0.01 .................................................\n",
      "[CV] ..................... C=1, gamma=0.01, score=0.831, total=   0.1s\n",
      "[CV] C=5, gamma=0.0001 ...............................................\n",
      "[CV] ................... C=5, gamma=0.0001, score=0.844, total=   0.1s\n",
      "[CV] C=5, gamma=0.0001 ...............................................\n",
      "[CV] ................... C=5, gamma=0.0001, score=0.847, total=   0.1s\n",
      "[CV] C=5, gamma=0.0001 ...............................................\n",
      "[CV] ................... C=5, gamma=0.0001, score=0.845, total=   0.2s\n",
      "[CV] C=5, gamma=0.0001 ...............................................\n",
      "[CV] ................... C=5, gamma=0.0001, score=0.830, total=   0.2s\n",
      "[CV] C=5, gamma=0.0001 ...............................................\n",
      "[CV] ................... C=5, gamma=0.0001, score=0.850, total=   0.1s\n",
      "[CV] C=5, gamma=0.001 ................................................\n",
      "[CV] .................... C=5, gamma=0.001, score=0.844, total=   0.1s\n",
      "[CV] C=5, gamma=0.001 ................................................\n",
      "[CV] .................... C=5, gamma=0.001, score=0.847, total=   0.1s\n",
      "[CV] C=5, gamma=0.001 ................................................\n",
      "[CV] .................... C=5, gamma=0.001, score=0.845, total=   0.2s\n",
      "[CV] C=5, gamma=0.001 ................................................\n",
      "[CV] .................... C=5, gamma=0.001, score=0.830, total=   0.2s\n",
      "[CV] C=5, gamma=0.001 ................................................\n",
      "[CV] .................... C=5, gamma=0.001, score=0.850, total=   0.1s\n",
      "[CV] C=5, gamma=0.01 .................................................\n",
      "[CV] ..................... C=5, gamma=0.01, score=0.844, total=   0.1s\n",
      "[CV] C=5, gamma=0.01 .................................................\n",
      "[CV] ..................... C=5, gamma=0.01, score=0.847, total=   0.1s\n",
      "[CV] C=5, gamma=0.01 .................................................\n",
      "[CV] ..................... C=5, gamma=0.01, score=0.845, total=   0.2s\n",
      "[CV] C=5, gamma=0.01 .................................................\n",
      "[CV] ..................... C=5, gamma=0.01, score=0.830, total=   0.2s\n",
      "[CV] C=5, gamma=0.01 .................................................\n",
      "[CV] ..................... C=5, gamma=0.01, score=0.850, total=   0.2s\n",
      "[CV] C=10, gamma=0.0001 ..............................................\n",
      "[CV] .................. C=10, gamma=0.0001, score=0.853, total=   0.2s\n",
      "[CV] C=10, gamma=0.0001 ..............................................\n",
      "[CV] .................. C=10, gamma=0.0001, score=0.863, total=   0.2s\n",
      "[CV] C=10, gamma=0.0001 ..............................................\n",
      "[CV] .................. C=10, gamma=0.0001, score=0.854, total=   0.3s\n",
      "[CV] C=10, gamma=0.0001 ..............................................\n",
      "[CV] .................. C=10, gamma=0.0001, score=0.838, total=   0.2s\n",
      "[CV] C=10, gamma=0.0001 ..............................................\n",
      "[CV] .................. C=10, gamma=0.0001, score=0.861, total=   0.2s\n",
      "[CV] C=10, gamma=0.001 ...............................................\n",
      "[CV] ................... C=10, gamma=0.001, score=0.853, total=   0.1s\n",
      "[CV] C=10, gamma=0.001 ...............................................\n",
      "[CV] ................... C=10, gamma=0.001, score=0.863, total=   0.1s\n",
      "[CV] C=10, gamma=0.001 ...............................................\n",
      "[CV] ................... C=10, gamma=0.001, score=0.854, total=   0.2s\n",
      "[CV] C=10, gamma=0.001 ...............................................\n",
      "[CV] ................... C=10, gamma=0.001, score=0.838, total=   0.1s\n",
      "[CV] C=10, gamma=0.001 ...............................................\n",
      "[CV] ................... C=10, gamma=0.001, score=0.861, total=   0.1s\n",
      "[CV] C=10, gamma=0.01 ................................................\n",
      "[CV] .................... C=10, gamma=0.01, score=0.853, total=   0.1s\n",
      "[CV] C=10, gamma=0.01 ................................................\n",
      "[CV] .................... C=10, gamma=0.01, score=0.863, total=   0.1s\n",
      "[CV] C=10, gamma=0.01 ................................................\n",
      "[CV] .................... C=10, gamma=0.01, score=0.854, total=   0.2s\n",
      "[CV] C=10, gamma=0.01 ................................................\n",
      "[CV] .................... C=10, gamma=0.01, score=0.838, total=   0.1s\n",
      "[CV] C=10, gamma=0.01 ................................................\n",
      "[CV] .................... C=10, gamma=0.01, score=0.861, total=   0.1s\n"
     ]
    },
    {
     "name": "stderr",
     "output_type": "stream",
     "text": [
      "[Parallel(n_jobs=1)]: Done  45 out of  45 | elapsed:    6.6s finished\n"
     ]
    },
    {
     "data": {
      "text/plain": [
       "GridSearchCV(cv=None, error_score=nan,\n",
       "             estimator=SVC(C=1.0, break_ties=False, cache_size=200,\n",
       "                           class_weight=None, coef0=0.0,\n",
       "                           decision_function_shape='ovr', degree=3,\n",
       "                           gamma='scale', kernel='linear', max_iter=-1,\n",
       "                           probability=False, random_state=None, shrinking=True,\n",
       "                           tol=0.001, verbose=False),\n",
       "             iid='deprecated', n_jobs=None,\n",
       "             param_grid={'C': [1, 5, 10], 'gamma': [0.0001, 0.001, 0.01]},\n",
       "             pre_dispatch='2*n_jobs', refit=True, return_train_score=False,\n",
       "             scoring=None, verbose=3)"
      ]
     },
     "execution_count": 9,
     "metadata": {},
     "output_type": "execute_result"
    }
   ],
   "source": [
    "from sklearn.svm import SVC \n",
    "from sklearn.model_selection import GridSearchCV\n",
    "\n",
    "model2 = SVC(kernel='linear')\n",
    "param_grid = {'C': [1, 5, 10],\n",
    "              'gamma': [0.0001, 0.001, 0.01]}\n",
    "grid2 = GridSearchCV(model2, param_grid, verbose=3)\n",
    "\n",
    "grid2.fit(X_train_scaled, y_train)"
   ]
  },
  {
   "cell_type": "code",
   "execution_count": 39,
   "metadata": {},
   "outputs": [
    {
     "name": "stdout",
     "output_type": "stream",
     "text": [
      "Training Data Score: 0.8594316231165363\n",
      "Testing Data Score: 0.8569794050343249\n"
     ]
    }
   ],
   "source": [
    "print(f\"Training Data Score: {grid2.score(X_train_scaled, y_train)}\")\n",
    "print(f\"Testing Data Score: {grid2.score(X_test_scaled, y_test)}\")"
   ]
  },
  {
   "cell_type": "code",
   "execution_count": 10,
   "metadata": {
    "scrolled": true
   },
   "outputs": [
    {
     "name": "stdout",
     "output_type": "stream",
     "text": [
      "Training Data Score: 0.8359717718863247\n",
      "Testing Data Score: 0.8386727688787186\n"
     ]
    }
   ],
   "source": [
    "from sklearn.linear_model import LogisticRegression\n",
    "model2_classifier = LogisticRegression() \n",
    "\n",
    "model2_classifier.fit(X_train_scaled, y_train)\n",
    "\n",
    "print(f\"Training Data Score: {model2_classifier.score(X_train_scaled, y_train)}\")\n",
    "print(f\"Testing Data Score: {model2_classifier.score(X_test_scaled, y_test)}\")"
   ]
  },
  {
   "cell_type": "code",
   "execution_count": 11,
   "metadata": {},
   "outputs": [
    {
     "data": {
      "text/plain": [
       "0.835812356979405"
      ]
     },
     "execution_count": 11,
     "metadata": {},
     "output_type": "execute_result"
    }
   ],
   "source": [
    "from sklearn import tree\n",
    "\n",
    "clf = tree.DecisionTreeClassifier()\n",
    "clf = clf.fit(X_train, y_train)\n",
    "clf.score(X_test, y_test)"
   ]
  },
  {
   "cell_type": "code",
   "execution_count": 12,
   "metadata": {},
   "outputs": [
    {
     "data": {
      "text/plain": [
       "0.834096109839817"
      ]
     },
     "execution_count": 12,
     "metadata": {},
     "output_type": "execute_result"
    }
   ],
   "source": [
    "clf_scaled = tree.DecisionTreeClassifier()\n",
    "clf_scaled = clf_scaled.fit(X_train_scaled, y_train)\n",
    "clf_scaled.score(X_test_scaled, y_test)"
   ]
  },
  {
   "cell_type": "code",
   "execution_count": 13,
   "metadata": {},
   "outputs": [
    {
     "data": {
      "text/plain": [
       "0.8947368421052632"
      ]
     },
     "execution_count": 13,
     "metadata": {},
     "output_type": "execute_result"
    }
   ],
   "source": [
    "from sklearn.ensemble import RandomForestClassifier\n",
    "rf = RandomForestClassifier(n_estimators=300)\n",
    "rf = rf.fit(X_train, y_train)\n",
    "rf.score(X_test, y_test)"
   ]
  },
  {
   "cell_type": "code",
   "execution_count": 14,
   "metadata": {},
   "outputs": [
    {
     "data": {
      "text/plain": [
       "0.8924485125858124"
      ]
     },
     "execution_count": 14,
     "metadata": {},
     "output_type": "execute_result"
    }
   ],
   "source": [
    "rf_scaled = RandomForestClassifier(n_estimators=300)\n",
    "rf_scaled = rf_scaled.fit(X_train_scaled, y_train)\n",
    "rf_scaled.score(X_test_scaled, y_test)"
   ]
  },
  {
   "cell_type": "code",
   "execution_count": 15,
   "metadata": {},
   "outputs": [
    {
     "data": {
      "text/plain": [
       "[(0.12335610218661162, 'koi_fpflag_nt'),\n",
       " (0.12125620980340675, 'koi_fpflag_co'),\n",
       " (0.11777813672422174, 'koi_fpflag_ss'),\n",
       " (0.10351597357178069, 'koi_model_snr'),\n",
       " (0.0840984045709586, 'koi_duration_err1'),\n",
       " (0.07550479863844031, 'koi_steff_err1'),\n",
       " (0.07074785713346515, 'koi_depth'),\n",
       " (0.05436532611556405, 'koi_period'),\n",
       " (0.05071521197849919, 'koi_teq'),\n",
       " (0.04745145338271395, 'koi_fpflag_ec'),\n",
       " (0.04494296781767358, 'koi_duration'),\n",
       " (0.03745031957205902, 'koi_impact_err1'),\n",
       " (0.02989219061985596, 'koi_slogg_err1'),\n",
       " (0.029086360481044383, 'ra'),\n",
       " (0.009838687403705073, 'koi_tce_plnt_num')]"
      ]
     },
     "execution_count": 15,
     "metadata": {},
     "output_type": "execute_result"
    }
   ],
   "source": [
    "sorted(zip(rf.feature_importances_, selected_features.columns), reverse=True)"
   ]
  },
  {
   "cell_type": "code",
   "execution_count": 16,
   "metadata": {},
   "outputs": [],
   "source": [
    "from tensorflow.keras.models import Sequential\n",
    "from tensorflow.keras.utils import to_categorical\n",
    "from tensorflow.keras.layers import Dense"
   ]
  },
  {
   "cell_type": "code",
   "execution_count": 21,
   "metadata": {},
   "outputs": [],
   "source": [
    "y_train_categorical = to_categorical(y_train)\n",
    "y_test_categorical = to_categorical(y_test)"
   ]
  },
  {
   "cell_type": "code",
   "execution_count": 35,
   "metadata": {},
   "outputs": [],
   "source": [
    "dnn = Sequential()\n",
    "dnn.add(Dense(50,activation='relu', input_dim=X_train_scaled.shape[1]))"
   ]
  },
  {
   "cell_type": "code",
   "execution_count": 36,
   "metadata": {},
   "outputs": [],
   "source": [
    "dnn.add(Dense(50, activation='relu'))\n",
    "dnn.add(Dense(70, activation='relu'))\n",
    "dnn.add(Dense(y_train_categorical.shape[1], activation=\"softmax\"))"
   ]
  },
  {
   "cell_type": "code",
   "execution_count": 37,
   "metadata": {
    "scrolled": true
   },
   "outputs": [
    {
     "name": "stdout",
     "output_type": "stream",
     "text": [
      "Train on 5243 samples\n",
      "Epoch 1/200\n",
      "5243/5243 - 0s - loss: 0.5190 - accuracy: 0.7269\n",
      "Epoch 2/200\n",
      "5243/5243 - 0s - loss: 0.3610 - accuracy: 0.8133\n",
      "Epoch 3/200\n",
      "5243/5243 - 0s - loss: 0.3476 - accuracy: 0.8243\n",
      "Epoch 4/200\n",
      "5243/5243 - 0s - loss: 0.3374 - accuracy: 0.8329\n",
      "Epoch 5/200\n",
      "5243/5243 - 0s - loss: 0.3283 - accuracy: 0.8407\n",
      "Epoch 6/200\n",
      "5243/5243 - 0s - loss: 0.3196 - accuracy: 0.8478\n",
      "Epoch 7/200\n",
      "5243/5243 - 0s - loss: 0.3119 - accuracy: 0.8497\n",
      "Epoch 8/200\n",
      "5243/5243 - 0s - loss: 0.3042 - accuracy: 0.8587\n",
      "Epoch 9/200\n",
      "5243/5243 - 0s - loss: 0.2968 - accuracy: 0.8636\n",
      "Epoch 10/200\n",
      "5243/5243 - 0s - loss: 0.2935 - accuracy: 0.8665\n",
      "Epoch 11/200\n",
      "5243/5243 - 0s - loss: 0.2835 - accuracy: 0.8722\n",
      "Epoch 12/200\n",
      "5243/5243 - 0s - loss: 0.2793 - accuracy: 0.8762\n",
      "Epoch 13/200\n",
      "5243/5243 - 0s - loss: 0.2755 - accuracy: 0.8762\n",
      "Epoch 14/200\n",
      "5243/5243 - 0s - loss: 0.2680 - accuracy: 0.8854\n",
      "Epoch 15/200\n",
      "5243/5243 - 0s - loss: 0.2746 - accuracy: 0.8816\n",
      "Epoch 16/200\n",
      "5243/5243 - 0s - loss: 0.2639 - accuracy: 0.8835\n",
      "Epoch 17/200\n",
      "5243/5243 - 0s - loss: 0.2675 - accuracy: 0.8825\n",
      "Epoch 18/200\n",
      "5243/5243 - 0s - loss: 0.2674 - accuracy: 0.8823\n",
      "Epoch 19/200\n",
      "5243/5243 - 0s - loss: 0.2600 - accuracy: 0.8848\n",
      "Epoch 20/200\n",
      "5243/5243 - 0s - loss: 0.2597 - accuracy: 0.8871\n",
      "Epoch 21/200\n",
      "5243/5243 - 0s - loss: 0.2547 - accuracy: 0.8884\n",
      "Epoch 22/200\n",
      "5243/5243 - 0s - loss: 0.2532 - accuracy: 0.8879\n",
      "Epoch 23/200\n",
      "5243/5243 - 0s - loss: 0.2545 - accuracy: 0.8909\n",
      "Epoch 24/200\n",
      "5243/5243 - 0s - loss: 0.2521 - accuracy: 0.8892\n",
      "Epoch 25/200\n",
      "5243/5243 - 0s - loss: 0.2496 - accuracy: 0.8911\n",
      "Epoch 26/200\n",
      "5243/5243 - 0s - loss: 0.2472 - accuracy: 0.8922\n",
      "Epoch 27/200\n",
      "5243/5243 - 0s - loss: 0.2494 - accuracy: 0.8905\n",
      "Epoch 28/200\n",
      "5243/5243 - 0s - loss: 0.2447 - accuracy: 0.8915\n",
      "Epoch 29/200\n",
      "5243/5243 - 0s - loss: 0.2437 - accuracy: 0.8901\n",
      "Epoch 30/200\n",
      "5243/5243 - 0s - loss: 0.2476 - accuracy: 0.8898\n",
      "Epoch 31/200\n",
      "5243/5243 - 0s - loss: 0.2406 - accuracy: 0.8945\n",
      "Epoch 32/200\n",
      "5243/5243 - 0s - loss: 0.2424 - accuracy: 0.8924\n",
      "Epoch 33/200\n",
      "5243/5243 - 0s - loss: 0.2375 - accuracy: 0.8974\n",
      "Epoch 34/200\n",
      "5243/5243 - 0s - loss: 0.2423 - accuracy: 0.8926\n",
      "Epoch 35/200\n",
      "5243/5243 - 0s - loss: 0.2398 - accuracy: 0.8976\n",
      "Epoch 36/200\n",
      "5243/5243 - 0s - loss: 0.2375 - accuracy: 0.8941\n",
      "Epoch 37/200\n",
      "5243/5243 - 0s - loss: 0.2370 - accuracy: 0.8953\n",
      "Epoch 38/200\n",
      "5243/5243 - 0s - loss: 0.2333 - accuracy: 0.8995\n",
      "Epoch 39/200\n",
      "5243/5243 - 0s - loss: 0.2338 - accuracy: 0.8997\n",
      "Epoch 40/200\n",
      "5243/5243 - 0s - loss: 0.2364 - accuracy: 0.8980\n",
      "Epoch 41/200\n",
      "5243/5243 - 0s - loss: 0.2333 - accuracy: 0.8983\n",
      "Epoch 42/200\n",
      "5243/5243 - 0s - loss: 0.2335 - accuracy: 0.8968\n",
      "Epoch 43/200\n",
      "5243/5243 - 0s - loss: 0.2393 - accuracy: 0.8976\n",
      "Epoch 44/200\n",
      "5243/5243 - 0s - loss: 0.2351 - accuracy: 0.8985\n",
      "Epoch 45/200\n",
      "5243/5243 - 0s - loss: 0.2354 - accuracy: 0.8951\n",
      "Epoch 46/200\n",
      "5243/5243 - 0s - loss: 0.2333 - accuracy: 0.9001\n",
      "Epoch 47/200\n",
      "5243/5243 - 0s - loss: 0.2302 - accuracy: 0.9023\n",
      "Epoch 48/200\n",
      "5243/5243 - 0s - loss: 0.2298 - accuracy: 0.8995\n",
      "Epoch 49/200\n",
      "5243/5243 - 0s - loss: 0.2292 - accuracy: 0.9008\n",
      "Epoch 50/200\n",
      "5243/5243 - 0s - loss: 0.2347 - accuracy: 0.8993\n",
      "Epoch 51/200\n",
      "5243/5243 - 0s - loss: 0.2257 - accuracy: 0.9006\n",
      "Epoch 52/200\n",
      "5243/5243 - 0s - loss: 0.2246 - accuracy: 0.9023\n",
      "Epoch 53/200\n",
      "5243/5243 - 0s - loss: 0.2265 - accuracy: 0.9029\n",
      "Epoch 54/200\n",
      "5243/5243 - 0s - loss: 0.2265 - accuracy: 0.9004\n",
      "Epoch 55/200\n",
      "5243/5243 - 0s - loss: 0.2274 - accuracy: 0.9020\n",
      "Epoch 56/200\n",
      "5243/5243 - 0s - loss: 0.2282 - accuracy: 0.9006\n",
      "Epoch 57/200\n",
      "5243/5243 - 0s - loss: 0.2233 - accuracy: 0.9035\n",
      "Epoch 58/200\n",
      "5243/5243 - 0s - loss: 0.2260 - accuracy: 0.9012\n",
      "Epoch 59/200\n",
      "5243/5243 - 0s - loss: 0.2262 - accuracy: 0.8991\n",
      "Epoch 60/200\n",
      "5243/5243 - 0s - loss: 0.2224 - accuracy: 0.9006\n",
      "Epoch 61/200\n",
      "5243/5243 - 0s - loss: 0.2240 - accuracy: 0.9012\n",
      "Epoch 62/200\n",
      "5243/5243 - 0s - loss: 0.2220 - accuracy: 0.9043\n",
      "Epoch 63/200\n",
      "5243/5243 - 0s - loss: 0.2275 - accuracy: 0.9037\n",
      "Epoch 64/200\n",
      "5243/5243 - 0s - loss: 0.2220 - accuracy: 0.9050\n",
      "Epoch 65/200\n",
      "5243/5243 - 0s - loss: 0.2198 - accuracy: 0.9067\n",
      "Epoch 66/200\n",
      "5243/5243 - 0s - loss: 0.2191 - accuracy: 0.9054\n",
      "Epoch 67/200\n",
      "5243/5243 - 0s - loss: 0.2195 - accuracy: 0.9046\n",
      "Epoch 68/200\n",
      "5243/5243 - 0s - loss: 0.2229 - accuracy: 0.9010\n",
      "Epoch 69/200\n",
      "5243/5243 - 0s - loss: 0.2210 - accuracy: 0.9039\n",
      "Epoch 70/200\n",
      "5243/5243 - 0s - loss: 0.2182 - accuracy: 0.9060\n",
      "Epoch 71/200\n",
      "5243/5243 - 0s - loss: 0.2191 - accuracy: 0.9044\n",
      "Epoch 72/200\n",
      "5243/5243 - 0s - loss: 0.2208 - accuracy: 0.9039\n",
      "Epoch 73/200\n",
      "5243/5243 - 0s - loss: 0.2188 - accuracy: 0.9039\n",
      "Epoch 74/200\n",
      "5243/5243 - 0s - loss: 0.2227 - accuracy: 0.9048\n",
      "Epoch 75/200\n",
      "5243/5243 - 0s - loss: 0.2216 - accuracy: 0.9016\n",
      "Epoch 76/200\n",
      "5243/5243 - 0s - loss: 0.2147 - accuracy: 0.9083\n",
      "Epoch 77/200\n",
      "5243/5243 - 0s - loss: 0.2145 - accuracy: 0.9043\n",
      "Epoch 78/200\n",
      "5243/5243 - 0s - loss: 0.2157 - accuracy: 0.9046\n",
      "Epoch 79/200\n",
      "5243/5243 - 0s - loss: 0.2200 - accuracy: 0.9018\n",
      "Epoch 80/200\n",
      "5243/5243 - 0s - loss: 0.2140 - accuracy: 0.9043\n",
      "Epoch 81/200\n",
      "5243/5243 - 0s - loss: 0.2166 - accuracy: 0.9023\n",
      "Epoch 82/200\n",
      "5243/5243 - 0s - loss: 0.2130 - accuracy: 0.9062\n",
      "Epoch 83/200\n",
      "5243/5243 - 0s - loss: 0.2119 - accuracy: 0.9067\n",
      "Epoch 84/200\n",
      "5243/5243 - 0s - loss: 0.2119 - accuracy: 0.9062\n",
      "Epoch 85/200\n",
      "5243/5243 - 0s - loss: 0.2164 - accuracy: 0.9071\n",
      "Epoch 86/200\n",
      "5243/5243 - 0s - loss: 0.2116 - accuracy: 0.9092\n",
      "Epoch 87/200\n",
      "5243/5243 - 0s - loss: 0.2152 - accuracy: 0.9050\n",
      "Epoch 88/200\n",
      "5243/5243 - 0s - loss: 0.2125 - accuracy: 0.9073\n",
      "Epoch 89/200\n",
      "5243/5243 - 0s - loss: 0.2133 - accuracy: 0.9065\n",
      "Epoch 90/200\n",
      "5243/5243 - 0s - loss: 0.2147 - accuracy: 0.9075\n",
      "Epoch 91/200\n",
      "5243/5243 - 0s - loss: 0.2094 - accuracy: 0.9090\n",
      "Epoch 92/200\n",
      "5243/5243 - 0s - loss: 0.2115 - accuracy: 0.9086\n",
      "Epoch 93/200\n",
      "5243/5243 - 0s - loss: 0.2132 - accuracy: 0.9033\n",
      "Epoch 94/200\n",
      "5243/5243 - 0s - loss: 0.2097 - accuracy: 0.9083\n",
      "Epoch 95/200\n",
      "5243/5243 - 0s - loss: 0.2081 - accuracy: 0.9096\n",
      "Epoch 96/200\n",
      "5243/5243 - 0s - loss: 0.2115 - accuracy: 0.9081\n",
      "Epoch 97/200\n",
      "5243/5243 - 0s - loss: 0.2092 - accuracy: 0.9100\n",
      "Epoch 98/200\n",
      "5243/5243 - 0s - loss: 0.2100 - accuracy: 0.9083\n",
      "Epoch 99/200\n",
      "5243/5243 - 0s - loss: 0.2066 - accuracy: 0.9088\n",
      "Epoch 100/200\n",
      "5243/5243 - 0s - loss: 0.2079 - accuracy: 0.9069\n",
      "Epoch 101/200\n",
      "5243/5243 - 0s - loss: 0.2110 - accuracy: 0.9077\n",
      "Epoch 102/200\n",
      "5243/5243 - 0s - loss: 0.2081 - accuracy: 0.9105\n",
      "Epoch 103/200\n",
      "5243/5243 - 0s - loss: 0.2056 - accuracy: 0.9102\n",
      "Epoch 104/200\n",
      "5243/5243 - 0s - loss: 0.2046 - accuracy: 0.9096\n",
      "Epoch 105/200\n",
      "5243/5243 - 0s - loss: 0.2091 - accuracy: 0.9075\n",
      "Epoch 106/200\n",
      "5243/5243 - 0s - loss: 0.2080 - accuracy: 0.9067\n",
      "Epoch 107/200\n",
      "5243/5243 - 0s - loss: 0.2055 - accuracy: 0.9094\n",
      "Epoch 108/200\n",
      "5243/5243 - 0s - loss: 0.2059 - accuracy: 0.9113\n",
      "Epoch 109/200\n",
      "5243/5243 - 0s - loss: 0.2047 - accuracy: 0.9073\n",
      "Epoch 110/200\n",
      "5243/5243 - 0s - loss: 0.2005 - accuracy: 0.9121\n",
      "Epoch 111/200\n",
      "5243/5243 - 0s - loss: 0.2047 - accuracy: 0.9088\n",
      "Epoch 112/200\n",
      "5243/5243 - 0s - loss: 0.2030 - accuracy: 0.9130\n",
      "Epoch 113/200\n",
      "5243/5243 - 0s - loss: 0.2012 - accuracy: 0.9113\n",
      "Epoch 114/200\n",
      "5243/5243 - 0s - loss: 0.2030 - accuracy: 0.9088\n",
      "Epoch 115/200\n",
      "5243/5243 - 0s - loss: 0.2029 - accuracy: 0.9104\n",
      "Epoch 116/200\n",
      "5243/5243 - 0s - loss: 0.2015 - accuracy: 0.9142\n",
      "Epoch 117/200\n",
      "5243/5243 - 0s - loss: 0.1980 - accuracy: 0.9142\n",
      "Epoch 118/200\n",
      "5243/5243 - 0s - loss: 0.2017 - accuracy: 0.9098\n",
      "Epoch 119/200\n",
      "5243/5243 - 0s - loss: 0.1991 - accuracy: 0.9130\n",
      "Epoch 120/200\n",
      "5243/5243 - 0s - loss: 0.1985 - accuracy: 0.9105\n",
      "Epoch 121/200\n",
      "5243/5243 - 0s - loss: 0.2003 - accuracy: 0.9130\n",
      "Epoch 122/200\n",
      "5243/5243 - 0s - loss: 0.1975 - accuracy: 0.9138\n",
      "Epoch 123/200\n",
      "5243/5243 - 0s - loss: 0.2040 - accuracy: 0.9096\n",
      "Epoch 124/200\n",
      "5243/5243 - 0s - loss: 0.1981 - accuracy: 0.9128\n",
      "Epoch 125/200\n",
      "5243/5243 - 0s - loss: 0.1997 - accuracy: 0.9125\n",
      "Epoch 126/200\n",
      "5243/5243 - 0s - loss: 0.1977 - accuracy: 0.9113\n",
      "Epoch 127/200\n",
      "5243/5243 - 0s - loss: 0.1957 - accuracy: 0.9136\n",
      "Epoch 128/200\n",
      "5243/5243 - 0s - loss: 0.1970 - accuracy: 0.9125\n",
      "Epoch 129/200\n",
      "5243/5243 - 0s - loss: 0.1955 - accuracy: 0.9149\n",
      "Epoch 130/200\n",
      "5243/5243 - 0s - loss: 0.1951 - accuracy: 0.9126\n",
      "Epoch 131/200\n",
      "5243/5243 - 0s - loss: 0.1956 - accuracy: 0.9146\n",
      "Epoch 132/200\n",
      "5243/5243 - 0s - loss: 0.1971 - accuracy: 0.9109\n"
     ]
    },
    {
     "name": "stdout",
     "output_type": "stream",
     "text": [
      "Epoch 133/200\n",
      "5243/5243 - 0s - loss: 0.1962 - accuracy: 0.9128\n",
      "Epoch 134/200\n",
      "5243/5243 - 0s - loss: 0.1977 - accuracy: 0.9128\n",
      "Epoch 135/200\n",
      "5243/5243 - 0s - loss: 0.1962 - accuracy: 0.9123\n",
      "Epoch 136/200\n",
      "5243/5243 - 0s - loss: 0.1922 - accuracy: 0.9138\n",
      "Epoch 137/200\n",
      "5243/5243 - 0s - loss: 0.1925 - accuracy: 0.9134\n",
      "Epoch 138/200\n",
      "5243/5243 - 0s - loss: 0.1963 - accuracy: 0.9107\n",
      "Epoch 139/200\n",
      "5243/5243 - 0s - loss: 0.1978 - accuracy: 0.9115\n",
      "Epoch 140/200\n",
      "5243/5243 - 0s - loss: 0.1912 - accuracy: 0.9136\n",
      "Epoch 141/200\n",
      "5243/5243 - 0s - loss: 0.1939 - accuracy: 0.9142\n",
      "Epoch 142/200\n",
      "5243/5243 - 0s - loss: 0.1891 - accuracy: 0.9159\n",
      "Epoch 143/200\n",
      "5243/5243 - 0s - loss: 0.1921 - accuracy: 0.9111\n",
      "Epoch 144/200\n",
      "5243/5243 - 0s - loss: 0.1931 - accuracy: 0.9128\n",
      "Epoch 145/200\n",
      "5243/5243 - 0s - loss: 0.1920 - accuracy: 0.9172\n",
      "Epoch 146/200\n",
      "5243/5243 - 0s - loss: 0.1934 - accuracy: 0.9136\n",
      "Epoch 147/200\n",
      "5243/5243 - 0s - loss: 0.1913 - accuracy: 0.9161\n",
      "Epoch 148/200\n",
      "5243/5243 - 0s - loss: 0.1877 - accuracy: 0.9157\n",
      "Epoch 149/200\n",
      "5243/5243 - 0s - loss: 0.1898 - accuracy: 0.9132\n",
      "Epoch 150/200\n",
      "5243/5243 - 0s - loss: 0.1900 - accuracy: 0.9172\n",
      "Epoch 151/200\n",
      "5243/5243 - 0s - loss: 0.1900 - accuracy: 0.9172\n",
      "Epoch 152/200\n",
      "5243/5243 - 0s - loss: 0.1906 - accuracy: 0.9161\n",
      "Epoch 153/200\n",
      "5243/5243 - 0s - loss: 0.1868 - accuracy: 0.9167\n",
      "Epoch 154/200\n",
      "5243/5243 - 0s - loss: 0.1919 - accuracy: 0.9132\n",
      "Epoch 155/200\n",
      "5243/5243 - 0s - loss: 0.1873 - accuracy: 0.9176\n",
      "Epoch 156/200\n",
      "5243/5243 - 0s - loss: 0.1882 - accuracy: 0.9168\n",
      "Epoch 157/200\n",
      "5243/5243 - 0s - loss: 0.1894 - accuracy: 0.9151\n",
      "Epoch 158/200\n",
      "5243/5243 - 0s - loss: 0.1859 - accuracy: 0.9167\n",
      "Epoch 159/200\n",
      "5243/5243 - 0s - loss: 0.1875 - accuracy: 0.9165\n",
      "Epoch 160/200\n",
      "5243/5243 - 0s - loss: 0.1939 - accuracy: 0.9126\n",
      "Epoch 161/200\n",
      "5243/5243 - 0s - loss: 0.1854 - accuracy: 0.9176\n",
      "Epoch 162/200\n",
      "5243/5243 - 0s - loss: 0.1894 - accuracy: 0.9178\n",
      "Epoch 163/200\n",
      "5243/5243 - 0s - loss: 0.1870 - accuracy: 0.9189\n",
      "Epoch 164/200\n",
      "5243/5243 - 0s - loss: 0.1910 - accuracy: 0.9113\n",
      "Epoch 165/200\n",
      "5243/5243 - 0s - loss: 0.1880 - accuracy: 0.9138\n",
      "Epoch 166/200\n",
      "5243/5243 - 0s - loss: 0.1858 - accuracy: 0.9170\n",
      "Epoch 167/200\n",
      "5243/5243 - 0s - loss: 0.1863 - accuracy: 0.9191\n",
      "Epoch 168/200\n",
      "5243/5243 - 0s - loss: 0.1849 - accuracy: 0.9176\n",
      "Epoch 169/200\n",
      "5243/5243 - 0s - loss: 0.1888 - accuracy: 0.9186\n",
      "Epoch 170/200\n",
      "5243/5243 - 0s - loss: 0.1825 - accuracy: 0.9189\n",
      "Epoch 171/200\n",
      "5243/5243 - 0s - loss: 0.1869 - accuracy: 0.9182\n",
      "Epoch 172/200\n",
      "5243/5243 - 0s - loss: 0.1800 - accuracy: 0.9216\n",
      "Epoch 173/200\n",
      "5243/5243 - 0s - loss: 0.1827 - accuracy: 0.9195\n",
      "Epoch 174/200\n",
      "5243/5243 - 0s - loss: 0.1839 - accuracy: 0.9170\n",
      "Epoch 175/200\n",
      "5243/5243 - 0s - loss: 0.1840 - accuracy: 0.9207\n",
      "Epoch 176/200\n",
      "5243/5243 - 0s - loss: 0.1813 - accuracy: 0.9189\n",
      "Epoch 177/200\n",
      "5243/5243 - 0s - loss: 0.1815 - accuracy: 0.9186\n",
      "Epoch 178/200\n",
      "5243/5243 - 0s - loss: 0.1815 - accuracy: 0.9205\n",
      "Epoch 179/200\n",
      "5243/5243 - 0s - loss: 0.1813 - accuracy: 0.9191\n",
      "Epoch 180/200\n",
      "5243/5243 - 0s - loss: 0.1845 - accuracy: 0.9176\n",
      "Epoch 181/200\n",
      "5243/5243 - 0s - loss: 0.1813 - accuracy: 0.9189\n",
      "Epoch 182/200\n",
      "5243/5243 - 0s - loss: 0.1780 - accuracy: 0.9191\n",
      "Epoch 183/200\n",
      "5243/5243 - 0s - loss: 0.1803 - accuracy: 0.9212\n",
      "Epoch 184/200\n",
      "5243/5243 - 0s - loss: 0.1843 - accuracy: 0.9207\n",
      "Epoch 185/200\n",
      "5243/5243 - 0s - loss: 0.1776 - accuracy: 0.9224\n",
      "Epoch 186/200\n",
      "5243/5243 - 0s - loss: 0.1784 - accuracy: 0.9207\n",
      "Epoch 187/200\n",
      "5243/5243 - 0s - loss: 0.1779 - accuracy: 0.9229\n",
      "Epoch 188/200\n",
      "5243/5243 - 0s - loss: 0.1783 - accuracy: 0.9214\n",
      "Epoch 189/200\n",
      "5243/5243 - 0s - loss: 0.1782 - accuracy: 0.9191\n",
      "Epoch 190/200\n",
      "5243/5243 - 0s - loss: 0.1829 - accuracy: 0.9197\n",
      "Epoch 191/200\n",
      "5243/5243 - 0s - loss: 0.1813 - accuracy: 0.9189\n",
      "Epoch 192/200\n",
      "5243/5243 - 0s - loss: 0.1764 - accuracy: 0.9216\n",
      "Epoch 193/200\n",
      "5243/5243 - 0s - loss: 0.1805 - accuracy: 0.9216\n",
      "Epoch 194/200\n",
      "5243/5243 - 0s - loss: 0.1783 - accuracy: 0.9212\n",
      "Epoch 195/200\n",
      "5243/5243 - 0s - loss: 0.1779 - accuracy: 0.9226\n",
      "Epoch 196/200\n",
      "5243/5243 - 0s - loss: 0.1808 - accuracy: 0.9210\n",
      "Epoch 197/200\n",
      "5243/5243 - 0s - loss: 0.1749 - accuracy: 0.9231\n",
      "Epoch 198/200\n",
      "5243/5243 - 0s - loss: 0.1761 - accuracy: 0.9214\n",
      "Epoch 199/200\n",
      "5243/5243 - 0s - loss: 0.1769 - accuracy: 0.9214\n",
      "Epoch 200/200\n",
      "5243/5243 - 0s - loss: 0.1729 - accuracy: 0.9233\n"
     ]
    },
    {
     "data": {
      "text/plain": [
       "<tensorflow.python.keras.callbacks.History at 0x1f8d4749e88>"
      ]
     },
     "execution_count": 37,
     "metadata": {},
     "output_type": "execute_result"
    }
   ],
   "source": [
    "dnn.compile(loss=\"categorical_crossentropy\",\n",
    "              optimizer=\"adam\", metrics=['accuracy'])\n",
    "dnn.fit(\n",
    "    X_train_scaled,\n",
    "    y_train_categorical,\n",
    "    epochs=200,\n",
    "    shuffle=True,\n",
    "    verbose=2\n",
    ")"
   ]
  },
  {
   "cell_type": "code",
   "execution_count": 38,
   "metadata": {},
   "outputs": [
    {
     "name": "stdout",
     "output_type": "stream",
     "text": [
      "1748/1748 - 0s - loss: 0.3586 - accuracy: 0.8913\n",
      "Loss: 0.35862062653224036, Accuracy: 0.8913043737411499\n"
     ]
    }
   ],
   "source": [
    "model_loss, model_accuracy = dnn.evaluate(X_test_scaled, y_test_categorical, verbose=2)\n",
    "print(f\"Loss: {model_loss}, Accuracy: {model_accuracy}\")"
   ]
  },
  {
   "cell_type": "code",
   "execution_count": null,
   "metadata": {},
   "outputs": [],
   "source": []
  },
  {
   "cell_type": "markdown",
   "metadata": {},
   "source": [
    "# Hyperparameter Tuning\n",
    "\n",
    "Use `GridSearchCV` to tune the model's parameters"
   ]
  },
  {
   "cell_type": "code",
   "execution_count": 9,
   "metadata": {},
   "outputs": [],
   "source": [
    "# Create the GridSearchCV model"
   ]
  },
  {
   "cell_type": "code",
   "execution_count": 10,
   "metadata": {},
   "outputs": [],
   "source": [
    "# Train the model with GridSearch"
   ]
  },
  {
   "cell_type": "code",
   "execution_count": 12,
   "metadata": {
    "scrolled": true
   },
   "outputs": [
    {
     "name": "stdout",
     "output_type": "stream",
     "text": [
      "                precision    recall  f1-score   support\n",
      "\n",
      "FALSE POSITIVE       0.71      1.00      0.83       876\n",
      "     CONFIRMED       0.00      0.00      0.00       450\n",
      "     CANDIDATE       0.55      0.68      0.61       422\n",
      "\n",
      "      accuracy                           0.66      1748\n",
      "     macro avg       0.42      0.56      0.48      1748\n",
      "  weighted avg       0.49      0.66      0.56      1748\n",
      "\n"
     ]
    },
    {
     "name": "stderr",
     "output_type": "stream",
     "text": [
      "C:\\Users\\luico\\Anaconda3\\lib\\site-packages\\sklearn\\metrics\\classification.py:1437: UndefinedMetricWarning: Precision and F-score are ill-defined and being set to 0.0 in labels with no predicted samples.\n",
      "  'precision', 'predicted', average, warn_for)\n"
     ]
    }
   ],
   "source": [
    "predictions = grid2.predict(X_test)\n",
    "from sklearn.metrics import classification_report\n",
    "print(classification_report(y_test, predictions,\n",
    "                            target_names=['FALSE POSITIVE', 'CONFIRMED','CANDIDATE']))"
   ]
  },
  {
   "cell_type": "code",
   "execution_count": null,
   "metadata": {},
   "outputs": [],
   "source": []
  },
  {
   "cell_type": "code",
   "execution_count": 13,
   "metadata": {},
   "outputs": [
    {
     "name": "stdout",
     "output_type": "stream",
     "text": [
      "{'C': 10, 'gamma': 0.0001}\n",
      "0.8514209422086592\n"
     ]
    }
   ],
   "source": [
    "print(grid2.best_params_)\n",
    "print(grid2.best_score_)"
   ]
  },
  {
   "cell_type": "markdown",
   "metadata": {},
   "source": [
    "# Save the Model"
   ]
  },
  {
   "cell_type": "code",
   "execution_count": 40,
   "metadata": {},
   "outputs": [
    {
     "data": {
      "text/plain": [
       "['luis_antonio_coca.sav']"
      ]
     },
     "execution_count": 40,
     "metadata": {},
     "output_type": "execute_result"
    }
   ],
   "source": [
    "# save your model by updating \"your_name\" with your name\n",
    "# and \"your_model\" with your model variable\n",
    "# be sure to turn this in to BCS\n",
    "# if joblib fails to import, try running the command to install in terminal/git-bash\n",
    "import joblib\n",
    "filename = 'luis_antonio_coca.sav'\n",
    "joblib.dump(grid2, filename)"
   ]
  },
  {
   "cell_type": "markdown",
   "metadata": {},
   "source": [
    "## Save the trained Deep Neural Network model\n"
   ]
  },
  {
   "cell_type": "code",
   "execution_count": 41,
   "metadata": {},
   "outputs": [],
   "source": [
    "dnn.save('DNN_luis_antonio_coca.h5')\n"
   ]
  },
  {
   "cell_type": "code",
   "execution_count": null,
   "metadata": {},
   "outputs": [],
   "source": []
  }
 ],
 "metadata": {
  "kernel_info": {
   "name": "dev"
  },
  "kernelspec": {
   "display_name": "Python [conda env:pytensor2-0]",
   "language": "python",
   "name": "conda-env-pytensor2-0-py"
  },
  "language_info": {
   "codemirror_mode": {
    "name": "ipython",
    "version": 3
   },
   "file_extension": ".py",
   "mimetype": "text/x-python",
   "name": "python",
   "nbconvert_exporter": "python",
   "pygments_lexer": "ipython3",
   "version": "3.7.6"
  },
  "nteract": {
   "version": "0.12.3"
  }
 },
 "nbformat": 4,
 "nbformat_minor": 2
}
